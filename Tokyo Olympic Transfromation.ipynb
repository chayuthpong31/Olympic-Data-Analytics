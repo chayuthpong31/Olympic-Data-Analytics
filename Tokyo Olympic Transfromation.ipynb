{
 "cells": [
  {
   "cell_type": "code",
   "execution_count": 0,
   "metadata": {
    "application/vnd.databricks.v1+cell": {
     "cellMetadata": {
      "byteLimit": 2048000,
      "rowLimit": 10000
     },
     "inputWidgets": {},
     "nuid": "f9f1e009-a746-4637-b180-0c97e1fda5ad",
     "showTitle": false,
     "tableResultSettingsMap": {},
     "title": ""
    }
   },
   "outputs": [],
   "source": [
    "service_credential = dbutils.secrets.get(scope=\"Tokyo-Olympic\",key=\"TokyoSecret\")\n",
    "\n",
    "spark.conf.set(\"fs.azure.account.auth.type.tokyoolympicchayuthpong.dfs.core.windows.net\", \"OAuth\")\n",
    "spark.conf.set(\"fs.azure.account.oauth.provider.type.tokyoolympicchayuthpong.dfs.core.windows.net\", \"org.apache.hadoop.fs.azurebfs.oauth2.ClientCredsTokenProvider\")\n",
    "spark.conf.set(\"fs.azure.account.oauth2.client.id.tokyoolympicchayuthpong.dfs.core.windows.net\", \"7610b0d7-eba2-449c-8336-e72bbcd4d19e\")\n",
    "spark.conf.set(\"fs.azure.account.oauth2.client.secret.tokyoolympicchayuthpong.dfs.core.windows.net\", service_credential)\n",
    "spark.conf.set(\"fs.azure.account.oauth2.client.endpoint.tokyoolympicchayuthpong.dfs.core.windows.net\", \"https://login.microsoftonline.com/5867d0d2-9189-4c1c-8788-6a37e00f88f5/oauth2/token\")"
   ]
  },
  {
   "cell_type": "code",
   "execution_count": 0,
   "metadata": {
    "application/vnd.databricks.v1+cell": {
     "cellMetadata": {
      "byteLimit": 2048000,
      "rowLimit": 10000
     },
     "inputWidgets": {},
     "nuid": "16aa1f34-9f28-4a4a-acb8-f9982fbad92c",
     "showTitle": false,
     "tableResultSettingsMap": {},
     "title": ""
    }
   },
   "outputs": [],
   "source": [
    "entriesgender_df = spark.read.csv(\"abfss://tokyo-olympic-data@tokyoolympicchayuthpong.dfs.core.windows.net/raw-data/EntriesGender.csv\",header=True, inferSchema=True)\n",
    "athletes_df = spark.read.csv(\"abfss://tokyo-olympic-data@tokyoolympicchayuthpong.dfs.core.windows.net/raw-data/athletes.csv\", header=True, inferSchema=True)\n",
    "coaches_df = spark.read.csv(\"abfss://tokyo-olympic-data@tokyoolympicchayuthpong.dfs.core.windows.net/raw-data/coaches.csv\", header=True, inferSchema=True)\n",
    "medals_df = spark.read.csv(\"abfss://tokyo-olympic-data@tokyoolympicchayuthpong.dfs.core.windows.net/raw-data/medals.csv\", header=True, inferSchema=True)\n",
    "teams_df = spark.read.csv(\"abfss://tokyo-olympic-data@tokyoolympicchayuthpong.dfs.core.windows.net/raw-data/teams.csv\", header=True, inferSchema=True)"
   ]
  },
  {
   "cell_type": "code",
   "execution_count": 0,
   "metadata": {
    "application/vnd.databricks.v1+cell": {
     "cellMetadata": {
      "byteLimit": 2048000,
      "rowLimit": 10000
     },
     "inputWidgets": {},
     "nuid": "6a81cdbe-3b48-4fde-adb6-35f225efaf55",
     "showTitle": false,
     "tableResultSettingsMap": {},
     "title": ""
    }
   },
   "outputs": [
    {
     "output_type": "display_data",
     "data": {
      "text/html": [
       "<style scoped>\n",
       "  .table-result-container {\n",
       "    max-height: 300px;\n",
       "    overflow: auto;\n",
       "  }\n",
       "  table, th, td {\n",
       "    border: 1px solid black;\n",
       "    border-collapse: collapse;\n",
       "  }\n",
       "  th, td {\n",
       "    padding: 5px;\n",
       "  }\n",
       "  th {\n",
       "    text-align: left;\n",
       "  }\n",
       "</style><div class='table-result-container'><table class='table-result'><thead style='background-color: white'><tr><th>Discipline</th><th>Female</th><th>Male</th><th>Total</th></tr></thead><tbody><tr><td>3x3 Basketball</td><td>32</td><td>32</td><td>64</td></tr><tr><td>Archery</td><td>64</td><td>64</td><td>128</td></tr><tr><td>Artistic Gymnastics</td><td>98</td><td>98</td><td>196</td></tr><tr><td>Artistic Swimming</td><td>105</td><td>0</td><td>105</td></tr><tr><td>Athletics</td><td>969</td><td>1072</td><td>2041</td></tr><tr><td>Badminton</td><td>86</td><td>87</td><td>173</td></tr><tr><td>Baseball/Softball</td><td>90</td><td>144</td><td>234</td></tr><tr><td>Basketball</td><td>144</td><td>144</td><td>288</td></tr><tr><td>Beach Volleyball</td><td>48</td><td>48</td><td>96</td></tr><tr><td>Boxing</td><td>102</td><td>187</td><td>289</td></tr><tr><td>Canoe Slalom</td><td>41</td><td>41</td><td>82</td></tr><tr><td>Canoe Sprint</td><td>123</td><td>126</td><td>249</td></tr><tr><td>Cycling BMX Freestyle</td><td>10</td><td>9</td><td>19</td></tr><tr><td>Cycling BMX Racing</td><td>24</td><td>24</td><td>48</td></tr><tr><td>Cycling Mountain Bike</td><td>38</td><td>38</td><td>76</td></tr><tr><td>Cycling Road</td><td>70</td><td>131</td><td>201</td></tr><tr><td>Cycling Track</td><td>90</td><td>99</td><td>189</td></tr><tr><td>Diving</td><td>72</td><td>71</td><td>143</td></tr><tr><td>Equestrian</td><td>73</td><td>125</td><td>198</td></tr><tr><td>Fencing</td><td>107</td><td>108</td><td>215</td></tr><tr><td>Football</td><td>264</td><td>344</td><td>608</td></tr><tr><td>Golf</td><td>60</td><td>60</td><td>120</td></tr><tr><td>Handball</td><td>168</td><td>168</td><td>336</td></tr><tr><td>Hockey</td><td>192</td><td>192</td><td>384</td></tr><tr><td>Judo</td><td>192</td><td>201</td><td>393</td></tr><tr><td>Karate</td><td>40</td><td>42</td><td>82</td></tr><tr><td>Marathon Swimming</td><td>25</td><td>25</td><td>50</td></tr><tr><td>Modern Pentathlon</td><td>36</td><td>36</td><td>72</td></tr><tr><td>Rhythmic Gymnastics</td><td>96</td><td>0</td><td>96</td></tr><tr><td>Rowing</td><td>257</td><td>265</td><td>522</td></tr><tr><td>Rugby Sevens</td><td>146</td><td>151</td><td>297</td></tr><tr><td>Sailing</td><td>175</td><td>175</td><td>350</td></tr><tr><td>Shooting</td><td>178</td><td>178</td><td>356</td></tr><tr><td>Skateboarding</td><td>40</td><td>40</td><td>80</td></tr><tr><td>Sport Climbing</td><td>20</td><td>20</td><td>40</td></tr><tr><td>Surfing</td><td>20</td><td>20</td><td>40</td></tr><tr><td>Swimming</td><td>361</td><td>418</td><td>779</td></tr><tr><td>Table Tennis</td><td>86</td><td>86</td><td>172</td></tr><tr><td>Taekwondo</td><td>65</td><td>65</td><td>130</td></tr><tr><td>Tennis</td><td>94</td><td>97</td><td>191</td></tr><tr><td>Trampoline Gymnastics</td><td>16</td><td>16</td><td>32</td></tr><tr><td>Triathlon</td><td>55</td><td>55</td><td>110</td></tr><tr><td>Volleyball</td><td>144</td><td>144</td><td>288</td></tr><tr><td>Water Polo</td><td>122</td><td>146</td><td>268</td></tr><tr><td>Weightlifting</td><td>98</td><td>99</td><td>197</td></tr><tr><td>Wrestling</td><td>96</td><td>193</td><td>289</td></tr></tbody></table></div>"
      ]
     },
     "metadata": {
      "application/vnd.databricks.v1+output": {
       "addedWidgets": {},
       "aggData": [],
       "aggError": "",
       "aggOverflow": false,
       "aggSchema": [],
       "aggSeriesLimitReached": false,
       "aggType": "",
       "arguments": {},
       "columnCustomDisplayInfos": {},
       "data": [
        [
         "3x3 Basketball",
         32,
         32,
         64
        ],
        [
         "Archery",
         64,
         64,
         128
        ],
        [
         "Artistic Gymnastics",
         98,
         98,
         196
        ],
        [
         "Artistic Swimming",
         105,
         0,
         105
        ],
        [
         "Athletics",
         969,
         1072,
         2041
        ],
        [
         "Badminton",
         86,
         87,
         173
        ],
        [
         "Baseball/Softball",
         90,
         144,
         234
        ],
        [
         "Basketball",
         144,
         144,
         288
        ],
        [
         "Beach Volleyball",
         48,
         48,
         96
        ],
        [
         "Boxing",
         102,
         187,
         289
        ],
        [
         "Canoe Slalom",
         41,
         41,
         82
        ],
        [
         "Canoe Sprint",
         123,
         126,
         249
        ],
        [
         "Cycling BMX Freestyle",
         10,
         9,
         19
        ],
        [
         "Cycling BMX Racing",
         24,
         24,
         48
        ],
        [
         "Cycling Mountain Bike",
         38,
         38,
         76
        ],
        [
         "Cycling Road",
         70,
         131,
         201
        ],
        [
         "Cycling Track",
         90,
         99,
         189
        ],
        [
         "Diving",
         72,
         71,
         143
        ],
        [
         "Equestrian",
         73,
         125,
         198
        ],
        [
         "Fencing",
         107,
         108,
         215
        ],
        [
         "Football",
         264,
         344,
         608
        ],
        [
         "Golf",
         60,
         60,
         120
        ],
        [
         "Handball",
         168,
         168,
         336
        ],
        [
         "Hockey",
         192,
         192,
         384
        ],
        [
         "Judo",
         192,
         201,
         393
        ],
        [
         "Karate",
         40,
         42,
         82
        ],
        [
         "Marathon Swimming",
         25,
         25,
         50
        ],
        [
         "Modern Pentathlon",
         36,
         36,
         72
        ],
        [
         "Rhythmic Gymnastics",
         96,
         0,
         96
        ],
        [
         "Rowing",
         257,
         265,
         522
        ],
        [
         "Rugby Sevens",
         146,
         151,
         297
        ],
        [
         "Sailing",
         175,
         175,
         350
        ],
        [
         "Shooting",
         178,
         178,
         356
        ],
        [
         "Skateboarding",
         40,
         40,
         80
        ],
        [
         "Sport Climbing",
         20,
         20,
         40
        ],
        [
         "Surfing",
         20,
         20,
         40
        ],
        [
         "Swimming",
         361,
         418,
         779
        ],
        [
         "Table Tennis",
         86,
         86,
         172
        ],
        [
         "Taekwondo",
         65,
         65,
         130
        ],
        [
         "Tennis",
         94,
         97,
         191
        ],
        [
         "Trampoline Gymnastics",
         16,
         16,
         32
        ],
        [
         "Triathlon",
         55,
         55,
         110
        ],
        [
         "Volleyball",
         144,
         144,
         288
        ],
        [
         "Water Polo",
         122,
         146,
         268
        ],
        [
         "Weightlifting",
         98,
         99,
         197
        ],
        [
         "Wrestling",
         96,
         193,
         289
        ]
       ],
       "datasetInfos": [],
       "dbfsResultPath": null,
       "isJsonSchema": true,
       "metadata": {},
       "overflow": false,
       "plotOptions": {
        "customPlotOptions": {},
        "displayType": "table",
        "pivotAggregation": null,
        "pivotColumns": null,
        "xColumns": null,
        "yColumns": null
       },
       "removedWidgets": [],
       "schema": [
        {
         "metadata": "{}",
         "name": "Discipline",
         "type": "\"string\""
        },
        {
         "metadata": "{}",
         "name": "Female",
         "type": "\"integer\""
        },
        {
         "metadata": "{}",
         "name": "Male",
         "type": "\"integer\""
        },
        {
         "metadata": "{}",
         "name": "Total",
         "type": "\"integer\""
        }
       ],
       "type": "table"
      }
     },
     "output_type": "display_data"
    }
   ],
   "source": [
    "display(entriesgender_df)"
   ]
  },
  {
   "cell_type": "code",
   "execution_count": 0,
   "metadata": {
    "application/vnd.databricks.v1+cell": {
     "cellMetadata": {
      "byteLimit": 2048000,
      "rowLimit": 10000
     },
     "inputWidgets": {},
     "nuid": "3ca0f8ea-68bd-45c0-94e8-9b8688d262e0",
     "showTitle": false,
     "tableResultSettingsMap": {},
     "title": ""
    }
   },
   "outputs": [
    {
     "output_type": "stream",
     "name": "stdout",
     "output_type": "stream",
     "text": [
      "+--------------------+----+\n|            Team/NOC|Gold|\n+--------------------+----+\n|United States of ...|  39|\n|People's Republic...|  38|\n|               Japan|  27|\n|       Great Britain|  22|\n|                 ROC|  20|\n|           Australia|  17|\n|         Netherlands|  10|\n|              France|  10|\n|             Germany|  10|\n|               Italy|  10|\n|                Cuba|   7|\n|         New Zealand|   7|\n|              Brazil|   7|\n|              Canada|   7|\n|             Hungary|   6|\n|   Republic of Korea|   6|\n|               Kenya|   4|\n|              Poland|   4|\n|      Czech Republic|   4|\n|              Norway|   4|\n+--------------------+----+\nonly showing top 20 rows\n"
     ]
    }
   ],
   "source": [
    "# Find the top countries with highest number of gold medals\n",
    "top_gold_medal_countries = medals_df.orderBy(\"Gold\", ascending=False).select(\"Team/NOC\",\"Gold\").show()"
   ]
  },
  {
   "cell_type": "code",
   "execution_count": 0,
   "metadata": {
    "application/vnd.databricks.v1+cell": {
     "cellMetadata": {
      "byteLimit": 2048000,
      "rowLimit": 10000
     },
     "inputWidgets": {},
     "nuid": "5f37bdac-7c2c-4064-bc8e-58aa910ff84e",
     "showTitle": false,
     "tableResultSettingsMap": {},
     "title": ""
    }
   },
   "outputs": [
    {
     "output_type": "stream",
     "name": "stdout",
     "output_type": "stream",
     "text": [
      "+--------------------+------+----+-----+-------------------+-------------------+\n|          Discipline|Female|Male|Total|         Avg_Female|           Avg_Male|\n+--------------------+------+----+-----+-------------------+-------------------+\n|      3x3 Basketball|    32|  32|   64|                0.5|                0.5|\n|             Archery|    64|  64|  128|                0.5|                0.5|\n| Artistic Gymnastics|    98|  98|  196|                0.5|                0.5|\n|   Artistic Swimming|   105|   0|  105|                1.0|                0.0|\n|           Athletics|   969|1072| 2041| 0.4747672709456149| 0.5252327290543851|\n|           Badminton|    86|  87|  173|0.49710982658959535| 0.5028901734104047|\n|   Baseball/Softball|    90| 144|  234|0.38461538461538464| 0.6153846153846154|\n|          Basketball|   144| 144|  288|                0.5|                0.5|\n|    Beach Volleyball|    48|  48|   96|                0.5|                0.5|\n|              Boxing|   102| 187|  289|0.35294117647058826| 0.6470588235294118|\n|        Canoe Slalom|    41|  41|   82|                0.5|                0.5|\n|        Canoe Sprint|   123| 126|  249| 0.4939759036144578| 0.5060240963855421|\n|Cycling BMX Frees...|    10|   9|   19| 0.5263157894736842|0.47368421052631576|\n|  Cycling BMX Racing|    24|  24|   48|                0.5|                0.5|\n|Cycling Mountain ...|    38|  38|   76|                0.5|                0.5|\n|        Cycling Road|    70| 131|  201| 0.3482587064676617| 0.6517412935323383|\n|       Cycling Track|    90|  99|  189|0.47619047619047616| 0.5238095238095238|\n|              Diving|    72|  71|  143| 0.5034965034965035| 0.4965034965034965|\n|          Equestrian|    73| 125|  198| 0.3686868686868687| 0.6313131313131313|\n|             Fencing|   107| 108|  215|0.49767441860465117| 0.5023255813953489|\n+--------------------+------+----+-----+-------------------+-------------------+\nonly showing top 20 rows\n"
     ]
    }
   ],
   "source": [
    "# Calculate the average number of entries by gender for each discipline\n",
    "average_entries_by_gender = entriesgender_df.withColumn(\n",
    "    'Avg_Female', entriesgender_df['Female'] / entriesgender_df['Total']\n",
    ").withColumn(\n",
    "    'Avg_Male', entriesgender_df['Male'] / entriesgender_df['Total']\n",
    ")\n",
    "\n",
    "average_entries_by_gender.show()"
   ]
  },
  {
   "cell_type": "code",
   "execution_count": 0,
   "metadata": {
    "application/vnd.databricks.v1+cell": {
     "cellMetadata": {
      "byteLimit": 2048000,
      "rowLimit": 10000
     },
     "inputWidgets": {},
     "nuid": "48b5d0ed-fb93-46a6-b3c8-5f270a7e9bad",
     "showTitle": false,
     "tableResultSettingsMap": {},
     "title": ""
    }
   },
   "outputs": [],
   "source": [
    "athletes_df.repartition(1).write.mode(\"overwrite\").option(\"header\", \"true\").csv(\n",
    "    \"abfss://tokyo-olympic-data@tokyoolympicchayuthpong.dfs.core.windows.net/transformed-data/athletes\"\n",
    ")\n",
    "\n",
    "entriesgender_df.repartition(1).write.mode(\"overwrite\").option(\"header\", \"true\").csv(\n",
    "    \"abfss://tokyo-olympic-data@tokyoolympicchayuthpong.dfs.core.windows.net/transformed-data/entriesgender\"\n",
    ")\n",
    "\n",
    "coaches_df.repartition(1).write.mode(\"overwrite\").option(\"header\", \"true\").csv(\n",
    "    \"abfss://tokyo-olympic-data@tokyoolympicchayuthpong.dfs.core.windows.net/transformed-data/coaches\"\n",
    ")\n",
    "\n",
    "medals_df.repartition(1).write.mode(\"overwrite\").option(\"header\", \"true\").csv(\n",
    "    \"abfss://tokyo-olympic-data@tokyoolympicchayuthpong.dfs.core.windows.net/transformed-data/medals\"\n",
    ")\n",
    "\n",
    "teams_df.repartition(1).write.mode(\"overwrite\").option(\"header\", \"true\").csv(\n",
    "    \"abfss://tokyo-olympic-data@tokyoolympicchayuthpong.dfs.core.windows.net/transformed-data/teams\"\n",
    ")"
   ]
  }
 ],
 "metadata": {
  "application/vnd.databricks.v1+notebook": {
   "computePreferences": null,
   "dashboards": [],
   "environmentMetadata": {
    "base_environment": "",
    "environment_version": "3"
   },
   "inputWidgetPreferences": null,
   "language": "python",
   "notebookMetadata": {
    "mostRecentlyExecutedCommandWithImplicitDF": {
     "commandId": -1,
     "dataframes": [
      "_sqldf"
     ]
    },
    "pythonIndentUnit": 4
   },
   "notebookName": "Tokyo Olympic Transfromation",
   "widgets": {}
  },
  "language_info": {
   "name": "python"
  }
 },
 "nbformat": 4,
 "nbformat_minor": 0
}